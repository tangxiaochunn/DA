{
 "cells": [
  {
   "cell_type": "markdown",
   "id": "8d10973d",
   "metadata": {},
   "source": [
    "# 7.2. Average treatment effects\n",
    "\n",
    "In experiments in which only one treatment is applied to each individual, it will not be possible to estimate individual-level causal effects $\\tau_i = y_{i1} - y_{i0}$. \n",
    "\n",
    "The individual causal effect can in general vary by person; hence, any definition of average causal\n",
    "effect will depend on what group of people is being averaged over.\n",
    "\n",
    "Basic types of average causal effects:\n",
    "\n",
    "### Sample average treatment effect (SATE)\n",
    "\n",
    "just averaging over the whole sample\n",
    "\n",
    "$$\\tau_{\\text{SATE}} = \\text{mean}(\\text{y_if_treated}) - \\text{mean}(\\text{y_if_control})$$\n",
    "\n",
    "\n",
    "### Conditional average treatment effect (CATE)\n",
    "\n",
    "We can also calculate the average treatment effect for well-defined subsets such as men , women, or, for instance, 50-year-olds . These estimands are sometimes referred to as conditional\n",
    "average treatment effects (CATEs) and can also take more complicated forms such as expectations\n",
    "(average predictions) from linear regression models.\n",
    "\n",
    "### Population average treatment effect (PATE)\n",
    "\n",
    "similar to SATE, but average treatment effect for the whole population. Obviously, we wouldn't have data for the whole population, but if our study sample is a random sample of the population of interest, then any unbiased estimate of the SATE will also be an unbiased estimate of PATE.\n"
   ]
  },
  {
   "cell_type": "code",
   "execution_count": null,
   "id": "448c0064",
   "metadata": {},
   "outputs": [],
   "source": [
    "import numpy as np\n",
    "import pandas as pd\n",
    "import matplotlib.pyplot as plt\n",
    "import statsmodels.formula.api as smf"
   ]
  },
  {
   "cell_type": "code",
   "execution_count": null,
   "id": "250ba88d",
   "metadata": {},
   "outputs": [],
   "source": [
    "# simulating the same data as in the practice 7.1\n",
    "\n",
    "sample_size = 100\n",
    "# age column\n",
    "age = np.random.normal(40, 10, sample_size)\n",
    "# converting age column to int\n",
    "age = age.astype(int)\n",
    "# 3 groups - [19-30, 30-45, 45-60]\n",
    "# this if my random division into groups, in real research such things are done accorring to some theory/knowledge\n",
    "age_groups = np.copy(age)\n",
    "age_groups[age < 30] = 1\n",
    "age_groups[(age >= 30)*(age < 45)] = 2\n",
    "age_groups[age >= 45] = 3\n",
    "\n",
    "data_age_groups = pd.DataFrame(age_groups, columns=['age_group'])\n",
    "np.random.seed(10)\n",
    "y_if_control = np.random.normal(10, 2, size=sample_size)\n",
    "y_if_treated = np.copy(y_if_control)\n",
    "\n",
    "data_age_groups['y0'] = y_if_control # y if control\n",
    "data_age_groups['y1'] = y_if_treated # y if treated, but its not final version, we would add TE here\n",
    "\n",
    "data_age_groups['y1'] = data_age_groups.apply(lambda x: x.y1 - 2 if x.age_group==1 \n",
    "                                              else x.y1 + 5 if x.age_group==2 \n",
    "                                              else x.y1 + 10, \n",
    "                                              axis=1)\n",
    "# assigning treatment to each person with probability 0.3\n",
    "z = np.random.binomial(1, 0.3, size=len(data_age_groups))\n",
    "data_age_groups['z'] = z"
   ]
  },
  {
   "cell_type": "markdown",
   "id": "e641f712",
   "metadata": {},
   "source": [
    "Let's calculate SATE and CATE for our simulated data (age group data from the practice 7.1)\n",
    "\n",
    "**as a difference in potential outcomes of treated and controlled**"
   ]
  },
  {
   "cell_type": "code",
   "execution_count": null,
   "id": "39081adf",
   "metadata": {},
   "outputs": [],
   "source": [
    "y_t = data_age_groups[data_age_groups[\"z\"]==1]['y1'] # y_treated\n",
    "y_c = data_age_groups[data_age_groups[\"z\"]==0]['y0'] # y_control"
   ]
  },
  {
   "cell_type": "code",
   "execution_count": null,
   "id": "bfb08501",
   "metadata": {},
   "outputs": [],
   "source": [
    "# SATE TE\n",
    "te_sate = y_t.mean() - y_c.mean() \n",
    "te_sate"
   ]
  },
  {
   "cell_type": "code",
   "execution_count": null,
   "id": "b58b706a",
   "metadata": {},
   "outputs": [],
   "source": [
    "# SATE standard error\n",
    "se_te_sate = np.sqrt(np.std(y_t) ** 2 / len(y_t) + np.std(y_c) ** 2 / len(y_c))\n",
    "se_te_sate"
   ]
  },
  {
   "cell_type": "code",
   "execution_count": null,
   "id": "2f1adc7f",
   "metadata": {},
   "outputs": [],
   "source": [
    "## true SATE in ideal world\n",
    "data_age_groups['y1'].mean() - data_age_groups['y0'].mean()"
   ]
  },
  {
   "cell_type": "code",
   "execution_count": null,
   "id": "3d5de01b",
   "metadata": {},
   "outputs": [],
   "source": [
    "# cate with age groups\n",
    "te_group1 = data_age_groups[data_age_groups[\"z\"]==1][data_age_groups[\"age_group\"]==1]['y1'].mean() - data_age_groups[data_age_groups[\"z\"]==0][data_age_groups[\"age_group\"]==1]['y0'].mean() \n",
    "te_group2 = data_age_groups[data_age_groups[\"z\"]==1][data_age_groups[\"age_group\"]==2]['y1'].mean() - data_age_groups[data_age_groups[\"z\"]==0][data_age_groups[\"age_group\"]==2]['y0'].mean() \n",
    "te_group3 = data_age_groups[data_age_groups[\"z\"]==1][data_age_groups[\"age_group\"]==3]['y1'].mean() - data_age_groups[data_age_groups[\"z\"]==0][data_age_groups[\"age_group\"]==3]['y0'].mean() "
   ]
  },
  {
   "cell_type": "code",
   "execution_count": null,
   "id": "f0d6123e",
   "metadata": {},
   "outputs": [],
   "source": [
    "te_group1, te_group2, te_group3"
   ]
  },
  {
   "cell_type": "markdown",
   "id": "88234ef5",
   "metadata": {},
   "source": [
    "**with regression**"
   ]
  },
  {
   "cell_type": "code",
   "execution_count": null,
   "id": "4e0e85e3",
   "metadata": {},
   "outputs": [],
   "source": [
    "data_age_groups['y_real'] = data_age_groups.apply(lambda x: x.y0 if x.z == 0 else x.y1, axis=1)"
   ]
  },
  {
   "cell_type": "code",
   "execution_count": null,
   "id": "d778fd39",
   "metadata": {},
   "outputs": [],
   "source": [
    "# cate\n",
    "m_sate = smf.ols(formula=\"y_real ~ z\", \n",
    "                 data=data_age_groups).fit()\n",
    "m_sate.summary()"
   ]
  },
  {
   "cell_type": "code",
   "execution_count": null,
   "id": "65655d73",
   "metadata": {},
   "outputs": [],
   "source": [
    "# sate 1\n",
    "m_sate1 = smf.ols(formula=\"y_real ~ z\", \n",
    "                 data=data_age_groups, subset=data_age_groups['age_group']==1).fit()\n",
    "m_sate1.summary()"
   ]
  },
  {
   "cell_type": "code",
   "execution_count": null,
   "id": "bb1a5264",
   "metadata": {},
   "outputs": [],
   "source": [
    "# sate 2\n",
    "m_sate2 = smf.ols(formula=\"y_real ~ z\", \n",
    "                 data=data_age_groups, subset=data_age_groups['age_group']==2).fit()\n",
    "m_sate2.summary()"
   ]
  },
  {
   "cell_type": "code",
   "execution_count": null,
   "id": "da1d4525",
   "metadata": {},
   "outputs": [],
   "source": [
    "# sate 3\n",
    "m_sate3 = smf.ols(formula=\"y_real ~ z\", \n",
    "                 data=data_age_groups, subset=data_age_groups['age_group']==3).fit()\n",
    "m_sate3.summary()"
   ]
  },
  {
   "cell_type": "markdown",
   "id": "3a6a4b56",
   "metadata": {},
   "source": [
    "### Randomization distribution\n",
    "\n",
    "An unbiased estimate leads us to the right answer on average. Properties of a\n",
    "statistical procedure are reflected in the distribution of the estimate over repeated samples from that\n",
    "population. That is, we can envision taking an infinite number of samples from the population and for\n",
    "each sample calculating the estimate. The distribution of these estimates is the **sampling distribution.**\n",
    "\n",
    "First of all, we can simplify matters by considering all covariates\n",
    "and potential outcomes to be fixed (this is a representation common both to the survey sampling\n",
    "world and the randomization-based inference framework). \n",
    "\n",
    "Then imagine *randomly allocating observations to treatment groups again and again*. *Each new allocation will imply a different set of observed outcomes (since observed outcomes are a function of both potential outcomes and treatment assignment)*. Suppose that with each re-randomization the difference in mean outcomes\n",
    "between the Í treatment and control groups is calculated. The set of these estimates represents the **randomization distribution for this estimate**. If the estimate is unbiased, then the average of all of these estimates (the mean of the randomization distribution) equals the true sample average treatment effect.\n",
    "\n",
    "Let's create loop to create a randomization distribution for an estimate of TE in our data with age groups"
   ]
  },
  {
   "cell_type": "code",
   "execution_count": null,
   "id": "70461c68",
   "metadata": {},
   "outputs": [],
   "source": [
    "n_trials = 1000\n",
    "\n",
    "te_distr = []\n",
    "\n",
    "for i in range(n_trials):\n",
    "    z = np.random.binomial(1, 0.3, len(data_age_groups))\n",
    "    te = np.mean(data_age_groups.loc[z==1, 'y1']) - np.mean(data_age_groups.loc[z==0, 'y0'])\n",
    "    te_distr.append(te)\n",
    "    \n",
    "plt.hist(te_distr)"
   ]
  },
  {
   "cell_type": "code",
   "execution_count": null,
   "id": "7c9dd313",
   "metadata": {},
   "outputs": [],
   "source": [
    "# sample average treatment effect and std\n",
    "np.mean(te_distr), np.std(te_distr)"
   ]
  },
  {
   "cell_type": "markdown",
   "id": "51a89451",
   "metadata": {},
   "source": [
    "### Sampling distribution\n",
    "\n",
    "We can try to estimate TE with the different method: \n",
    "+ N times randomly sample some set of our data\n",
    "+ estimate average TE on each set\n",
    "\n",
    "Then we will obtain sampling distibution that contains average TE for each draw. We can take the mean and std of this distribution"
   ]
  },
  {
   "cell_type": "code",
   "execution_count": null,
   "id": "f28ee86c",
   "metadata": {},
   "outputs": [],
   "source": [
    "n_trials = 1000\n",
    "n_samples = 10\n",
    "\n",
    "te_distr = []\n",
    "\n",
    "for i in range(n_trials):\n",
    "    chosen = np.random.choice(len(data_age_groups), size=n_samples)\n",
    "    data_sampled = data_age_groups.iloc[chosen].copy()\n",
    "    te = np.mean(data_sampled['y1']) - np.mean(data_sampled['y0'])\n",
    "    te_distr.append(te)\n",
    "    \n",
    "plt.hist(te_distr)"
   ]
  },
  {
   "cell_type": "code",
   "execution_count": null,
   "id": "4952c334",
   "metadata": {},
   "outputs": [],
   "source": [
    "# sample average treatment effect and std\n",
    "np.mean(te_distr), np.std(te_distr)"
   ]
  },
  {
   "cell_type": "markdown",
   "id": "0718e40e",
   "metadata": {},
   "source": [
    "## Little summary: calculating average treatment effects\n",
    "\n",
    "There are two main methods to calculate TE (sate or cate or TE for particular group):\n",
    "+ as a difference between potential outcomes between groups\n",
    "+ with linear regression\n",
    "\n",
    "We can also estimate TE with sampling distribution (sample random part of data, calculate TE, repeat N times)\n",
    "\n",
    "Randomization distribution works only if can have both y0 and y1 for each observation which is not true in real research.\n",
    "\n",
    "In ideal world, we would have an opportunity to calculate true TE (when we have info about counterfactual outcomes). We cannot do this in real reasearch, but we can do it in simulations."
   ]
  },
  {
   "cell_type": "markdown",
   "id": "4ffbd518",
   "metadata": {},
   "source": [
    "## Example of simple simulation\n",
    "\n",
    "We demonstrate with an artificial example of a randomized experiment on 100 students designed to\n",
    "test an intervention for improving final exam scores.\n",
    "\n",
    "### Simulating a randomized experiment\n",
    "We start by assigning the potential outcomes, the final exam scores that would be observed for each\n",
    "student if he or she gets the control or the treatment:\n"
   ]
  },
  {
   "cell_type": "code",
   "execution_count": null,
   "id": "f3b4eaf8",
   "metadata": {},
   "outputs": [],
   "source": [
    "np.random.seed(10)\n",
    "n = 100\n",
    "y_if_control = np.random.normal(60, 20, size=n)\n",
    "y_if_treated = y_if_control + 5"
   ]
  },
  {
   "cell_type": "markdown",
   "id": "c2599b1c",
   "metadata": {},
   "source": [
    "In this very simple model, the intervention would add 5 points to each student’s score.\n",
    "We then assign treatments (z = 0 for control or 1 for treatment), which then determine which\n",
    "outcome is observed for each person:"
   ]
  },
  {
   "cell_type": "code",
   "execution_count": null,
   "id": "51edd69d",
   "metadata": {},
   "outputs": [],
   "source": [
    "z = np.random.binomial(1, 0.5, n)\n",
    "\n",
    "y = np.array([y0  if z == 0 else y1 for (y0, y1, z) in zip(y_if_control, y_if_treated, z)])"
   ]
  },
  {
   "cell_type": "markdown",
   "id": "7956fdbb",
   "metadata": {},
   "source": [
    "Having simulated the data, we can now compare treated to control outcomes and compute the standard\n",
    "error for the difference:"
   ]
  },
  {
   "cell_type": "code",
   "execution_count": null,
   "id": "89ac5681",
   "metadata": {},
   "outputs": [],
   "source": [
    "diff = np.mean(y[z==1]) - np.mean(y[z==0])\n",
    "se_diff = np.sqrt(np.std(y[z==1]) ** 2 / len(y[z==1]) + np.std(y[z==0]) ** 2 / len(y[z==0]))\n",
    "\n",
    "print(diff, se_diff)"
   ]
  },
  {
   "cell_type": "markdown",
   "id": "a130fc15",
   "metadata": {},
   "source": [
    "Equivalently, we can run the regression:"
   ]
  },
  {
   "cell_type": "code",
   "execution_count": null,
   "id": "4cd2888b",
   "metadata": {},
   "outputs": [],
   "source": [
    "data = pd.DataFrame()\n",
    "data['y'] = y\n",
    "data['z'] = z"
   ]
  },
  {
   "cell_type": "code",
   "execution_count": null,
   "id": "d01ab1a3",
   "metadata": {},
   "outputs": [],
   "source": [
    "model =  smf.ols(formula=\"y ~ z\", \n",
    "                 data=data).fit()\n",
    "model.summary()"
   ]
  },
  {
   "cell_type": "markdown",
   "id": "f3cfb54a",
   "metadata": {},
   "source": [
    "### Including a pre-treatment predictor\n",
    "Suppose we also have information about pre-test scores x. They have the same distribution as post-test scores y but with a slightly lower average."
   ]
  },
  {
   "cell_type": "code",
   "execution_count": null,
   "id": "05f5a91e",
   "metadata": {},
   "outputs": [],
   "source": [
    "data['x'] = np.random.normal(50, 20, size=n)"
   ]
  },
  {
   "cell_type": "markdown",
   "id": "41985c44",
   "metadata": {},
   "source": [
    "We can then adjust for pre-test in our regression:"
   ]
  },
  {
   "cell_type": "code",
   "execution_count": null,
   "id": "97d4552c",
   "metadata": {},
   "outputs": [],
   "source": [
    "model =  smf.ols(formula=\"y ~ z + x\", \n",
    "                 data=data).fit()\n",
    "model.summary()"
   ]
  },
  {
   "cell_type": "markdown",
   "id": "9226bd74",
   "metadata": {},
   "source": [
    "Again, the coefficient of z estimates the treatment effect, and it still has a standard error of about\n",
    "4, which might seem surprising: shouldn’t the inclusion of a pre-treatment predictor increase the\n",
    "precision of our estimate? The answer is that, the way we constructed the pre-test variable, it wasn’t\n",
    "much of a pre-treatment predictor at all, as we simulated it independently of the potential outcomes\n",
    "for the final test score.\n",
    "\n",
    "\n",
    "To perform a realistic simulation, we must simulate both test scores in a correlated way, which we\n",
    "do here by borrowing a trick from the example of simulated midterm and final exams:\n",
    "\n",
    "1. Each student is assumed to have a true ability drawn from a distribution with mean 50 and standard\n",
    "deviation 16.\n",
    "2. Each student’s score on the pre-test, x, is the sum of two components: the student’s true ability,\n",
    "and a random component with mean 0 and standard deviation 12, reflecting that performance on\n",
    "any given test will be unpredictable.\n",
    "3. Each student’s score on the post-test, y, is his or her true ability, plus another, independent, random\n",
    "component, plus an additional 10 points if a student receives the control or 15 points if he or she\n",
    "receives the treatment."
   ]
  },
  {
   "cell_type": "code",
   "execution_count": null,
   "id": "2c9ef29b",
   "metadata": {},
   "outputs": [],
   "source": [
    "np.random.seed(10)\n",
    "\n",
    "n = 100\n",
    "true_ability = np.random.normal(50, 16, n)\n",
    "x = true_ability + np.random.normal(0, 12, n)\n",
    "y_if_control = true_ability + np.random.normal(0, 12, n)\n",
    "y_if_treated = y_if_control + 15"
   ]
  },
  {
   "cell_type": "markdown",
   "id": "f9a5416f",
   "metadata": {},
   "source": [
    "As above, we assign treatments, construct the observed outcome, and put the data into a frame:"
   ]
  },
  {
   "cell_type": "code",
   "execution_count": null,
   "id": "cf89b4e0",
   "metadata": {},
   "outputs": [],
   "source": [
    "z = np.random.binomial(1, 0.5, n)\n",
    "y = np.array([y0  if z == 0 else y1 for (y0, y1, z) in zip(y_if_control, y_if_treated, z)])\n",
    "\n",
    "data = pd.DataFrame()\n",
    "data['y'] = y\n",
    "data['z'] = z\n",
    "data['x'] = x"
   ]
  },
  {
   "cell_type": "markdown",
   "id": "064e605a",
   "metadata": {},
   "source": [
    "The simple comparison is equivalent to a regression on the treatment indicator:"
   ]
  },
  {
   "cell_type": "code",
   "execution_count": null,
   "id": "5517cc84",
   "metadata": {},
   "outputs": [],
   "source": [
    "model =  smf.ols(formula=\"y ~ z\", \n",
    "                 data=data).fit()\n",
    "model.summary()"
   ]
  },
  {
   "cell_type": "markdown",
   "id": "50bf8abf",
   "metadata": {},
   "source": [
    "And the estimate adjusting for pre-test:"
   ]
  },
  {
   "cell_type": "code",
   "execution_count": null,
   "id": "dc5aac47",
   "metadata": {},
   "outputs": [],
   "source": [
    "model =  smf.ols(formula=\"y ~ z + x\", \n",
    "                 data=data).fit()\n",
    "model.summary()"
   ]
  },
  {
   "cell_type": "markdown",
   "id": "f3023b9c",
   "metadata": {},
   "source": [
    "In this case, with the strong dependence between pre-test and post-test, this adjustment has reduced\n",
    "the residual standard deviation by about a third."
   ]
  },
  {
   "cell_type": "markdown",
   "id": "b800bd30",
   "metadata": {},
   "source": [
    "## Task for you\n",
    "\n",
    "send me to e-mail aspestova@hse.ru in **html** format.\n",
    "\n",
    "(for better unserstanding, read the chapter 18 from Gelman book - https://users.aalto.fi/~ave/ROS.pdf)\n",
    "\n",
    "\n",
    "1. Simulate data from the table 18.5 from Gelman book (page 348)\n",
    "2. Try different treatment assignment:\n",
    "+ completely random treatment assignment\n",
    "+ block random experiment - \n",
    "Divide participants into 4 blocks by age: 40 years-old, 50 years-old, 60 years-old, 70-years old.\n",
    "In the first two blocks (Audrey through Brad) that contain the younger\n",
    "participants, the probability of receiving the supplements is 0.25 under this design, whereas in the\n",
    "last two blocks, with the older participants, this probability is 0.75.)\n",
    "\n",
    "\n",
    "calculations on this simulated data: \n",
    "\n",
    "3. Calculate SATE and CATE (for the same groups defined earlier) for both treatment assignment designs\n",
    "4. Using the first treatment assignment design, fit outcome regression for several draws, with and without covariates (sex, age).\n",
    "5. Describe results and the differences between the models (TE, standard errors). "
   ]
  }
 ],
 "metadata": {
  "kernelspec": {
   "display_name": "Python 3 (ipykernel)",
   "language": "python",
   "name": "python3"
  },
  "language_info": {
   "codemirror_mode": {
    "name": "ipython",
    "version": 3
   },
   "file_extension": ".py",
   "mimetype": "text/x-python",
   "name": "python",
   "nbconvert_exporter": "python",
   "pygments_lexer": "ipython3",
   "version": "3.9.13"
  }
 },
 "nbformat": 4,
 "nbformat_minor": 5
}
