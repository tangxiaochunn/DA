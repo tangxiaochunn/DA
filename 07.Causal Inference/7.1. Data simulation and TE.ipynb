{
 "cells": [
  {
   "cell_type": "markdown",
   "id": "a8147436",
   "metadata": {},
   "source": [
    "# 1. Causal inference: Data Simulation and Average Treatment Effects"
   ]
  },
  {
   "cell_type": "markdown",
   "id": "43188a63",
   "metadata": {},
   "source": [
    "Very useful book: https://users.aalto.fi/~ave/ROS.pdf. Lectures and seminars are based on the chapters 18-21."
   ]
  },
  {
   "cell_type": "markdown",
   "id": "5aff555c",
   "metadata": {},
   "source": [
    "## Simulating Data\n",
    "\n",
    "Plan is to look at how we can create:\n",
    "+ samples from normal distributions\n",
    "+ several variables from normal distributions with specified correlation\n",
    "+ dataset with 2 correlated variables with specified treatment effect\n",
    "+ vector z for random treatment assignment with specified probability to being assigned to the treatment\n",
    "+ imitate population with different stratas"
   ]
  },
  {
   "cell_type": "code",
   "execution_count": null,
   "id": "ba39a881",
   "metadata": {},
   "outputs": [],
   "source": [
    "import numpy as np\n",
    "import pandas as pd\n",
    "import matplotlib.pyplot as plt"
   ]
  },
  {
   "cell_type": "markdown",
   "id": "4bdd93da",
   "metadata": {},
   "source": [
    "Sample from normal distribution"
   ]
  },
  {
   "cell_type": "code",
   "execution_count": null,
   "id": "20fca08d",
   "metadata": {},
   "outputs": [],
   "source": [
    "np.random.seed(10)\n",
    "# here - mean=0, sd=1, size of the sample=10\n",
    "x = np.random.normal(loc=0.0, scale=1.0, size=10)"
   ]
  },
  {
   "cell_type": "code",
   "execution_count": null,
   "id": "7e883ae4",
   "metadata": {},
   "outputs": [],
   "source": [
    "plt.hist(x)"
   ]
  },
  {
   "cell_type": "code",
   "execution_count": null,
   "id": "13b86a30",
   "metadata": {},
   "outputs": [],
   "source": [
    "x = np.random.normal(loc=0.0, scale=1.0, size=1000)\n",
    "plt.hist(x)"
   ]
  },
  {
   "cell_type": "markdown",
   "id": "d0cf5c3d",
   "metadata": {},
   "source": [
    "**Creating several variables with specified correlation**\n",
    "\n",
    "\n",
    "Pearson's correlation: \n",
    "\n",
    "$$\\rho(X, Y) = \\frac{\\text{cov}(X, Y)}{\\sigma_x \\sigma_y}$$\n",
    "\n",
    "so, $$\\text{cov}(X, Y) = \\rho(X, Y) \\sigma_x \\sigma_y$$\n",
    "\n",
    "For creating multivariate Normal distribution $X \\sim N(\\mu, \\Sigma)$ we need the vector of means $\\mu$ (mean value for each variable) and covariance matrix $\\Sigma$. For example, for 3-dimensional Multivariate Normal distribution covariance matrix would look like:\n",
    "\n",
    "\n",
    "$$\n",
    "\\begin{pmatrix}\n",
    "\\text{cov}(x_1, x_1) & \\text{cov}(x_1, x_2) & \\text{cov}(x_1, x_3)\\\\\n",
    "\\text{cov}(x_2, x_1) & \\text{cov}(x_2, x_2) & \\text{cov}(x_2, x_3)\\\\\n",
    "\\text{cov}(x_3, x_1) & \\text{cov}(x_3, x_2) & \\text{cov}(x_3, x_3)\n",
    "\\end{pmatrix}\n",
    "$$\n",
    "\n",
    "\n",
    "So, if we want to create, for example, 3 variables $X_1, X_2, Y_2$ with pair-wise correlations $\\rho(X_1, X_2) = a$, $\\rho(X_1, X_3) = b$, $\\rho(X_2, X_3) = c$, then we need to create the following covariance matrix:\n",
    "\n",
    "\n",
    "$$\n",
    "\\begin{pmatrix}\n",
    "\\sigma_{x1} \\sigma_{x1} & a \\sigma_{x1} \\sigma_{x2} & b \\sigma_{x1} \\sigma_{x3}\\\\\n",
    "a \\sigma_{x1} \\sigma_{x2} & \\sigma_{x2} \\sigma_{x2} & c \\sigma_{x2} \\sigma_{x3})\\\\\n",
    "b \\sigma_{x1} \\sigma_{x3} & c \\sigma_{x2} \\sigma_{x3} & \\sigma_{x3} \\sigma_{x3}\n",
    "\\end{pmatrix}\n",
    "$$\n",
    "\n",
    "\n",
    "(note: this matrix is symmetric and $ \\text{cov}(x_i, x_j) =  \\text{cov}(x_j, x_i)$, as well as $ \\rho(x_i, x_j) =  \\rho(x_j, x_i)$)"
   ]
  },
  {
   "cell_type": "markdown",
   "id": "d6817742",
   "metadata": {},
   "source": [
    "**Example**\n",
    "\n",
    "Let's create samle of size 10 with 3 variables $X_1, X_2, X_3$ with means [2, 100, 10] and standard deviations [1, 5.5, 2.3] with the following correlations:\n",
    "\n",
    "$\\rho(X_1, X_2) = 0.3$, $\\rho(X_1, X_3) = 0.8$, $\\rho(X_2, X_3) = 0.45$"
   ]
  },
  {
   "cell_type": "code",
   "execution_count": null,
   "id": "5cd31266",
   "metadata": {},
   "outputs": [],
   "source": [
    "means = np.array([2, 100, 10])\n",
    "sds = np.array([1, 5.5, 2.3])\n",
    "\n",
    "corr_matrix = np.array([\n",
    "    [1, 0.3, 0.8],\n",
    "    [0.3, 1, 0.45],\n",
    "    [0.8, 0.45, 1]])\n",
    "\n",
    "sds_mult = np.array([\n",
    "    [sds[0] * sds[0], sds[0] * sds[1], sds[0] * sds[2]],\n",
    "    [sds[1] * sds[0], sds[1] * sds[1], sds[1] * sds[2]],\n",
    "    [sds[2] * sds[0], sds[2] * sds[1], sds[2] * sds[2]]])\n",
    "\n",
    "# more accurate: sds_mult = np.outer(sds, sds)\n",
    "\n",
    "cov_matrix = corr_matrix * sds_mult\n",
    "data = np.random.multivariate_normal(means, cov_matrix, size=10)"
   ]
  },
  {
   "cell_type": "code",
   "execution_count": null,
   "id": "307ff4f6",
   "metadata": {},
   "outputs": [],
   "source": [
    "#checking correlations\n",
    "\n",
    "np.corrcoef(data, rowvar=False)"
   ]
  },
  {
   "cell_type": "code",
   "execution_count": null,
   "id": "5e3f061f",
   "metadata": {},
   "outputs": [],
   "source": [
    "# sampling more observations\n",
    "data = np.random.multivariate_normal(means, cov_matrix, size=1000)\n",
    "\n",
    "#checking correlations\n",
    "print(np.corrcoef(data, rowvar=False))"
   ]
  },
  {
   "cell_type": "markdown",
   "id": "5c7e04c8",
   "metadata": {},
   "source": [
    "**More automatic way to create covariance matrix**"
   ]
  },
  {
   "cell_type": "code",
   "execution_count": null,
   "id": "862b389d",
   "metadata": {},
   "outputs": [],
   "source": [
    "# function for creating dataset with correlated variables from normal distribution\n",
    "\n",
    "def create_correlated_variables(num_variables, num_samples, means, sds, corr_matrix):\n",
    "    assert means.shape[0] == num_variables, f\"There should be {num_samples} mean values for num_samples={num_samples}, got {means.shape[0]}\"\n",
    "    assert sds.shape[0] == num_variables, f\"There should be {num_samples} sds values for num_samples={num_samples}, got {sds.shape[0]}\"\n",
    "    assert corr_matrix.shape[0] == corr_matrix.shape[1] == num_variables, f\"Size of the corr_matrix should be ({num_variables},{num_variables}), got {corr_matrix.shape}\"\n",
    "    assert (corr_matrix <= 1).all() and (corr_matrix >= -1).all(), \"All values in corr_matrix should be between -1 and 1\"\n",
    "    \n",
    "    sds_mult = np.outer(sds, sds)\n",
    "    cov_matrix = corr_matrix * sds_mult\n",
    "    \n",
    "    return np.random.multivariate_normal(means, cov_matrix, size=num_samples)"
   ]
  },
  {
   "cell_type": "code",
   "execution_count": null,
   "id": "ed55a00f",
   "metadata": {},
   "outputs": [],
   "source": [
    "# usage example\n",
    "means = np.array([2, 100, 10])\n",
    "sds = np.array([1, 5.5, 2.3])\n",
    "\n",
    "corr_matrix = np.array([\n",
    "    [1, 0.3, 0.8],\n",
    "    [0.3, 1, 0.45],\n",
    "    [0.8, 0.45, 1]])\n",
    "x = create_correlated_variables(3, 10000, means, sds, corr_matrix)\n",
    "np.corrcoef(x, rowvar=False)"
   ]
  },
  {
   "cell_type": "markdown",
   "id": "7a8c569b",
   "metadata": {},
   "source": [
    "**Creating dataset with 2 correlated variables with specified treatment effect**\n",
    "\n",
    "simulating a randomized experiment - imagine we have 2 groups of people - treated and controlled.\n",
    "\n",
    "In this very simple model, the intervention would add 5 points to some scale."
   ]
  },
  {
   "cell_type": "code",
   "execution_count": null,
   "id": "03332939",
   "metadata": {},
   "outputs": [],
   "source": [
    "# y0 and y1 from the same distribution\n",
    "np.random.seed(10)\n",
    "y_if_control = np.random.normal(10, 2, size=10)\n",
    "treatment_effect = 5\n",
    "y_if_treated = np.copy(y_if_control) + treatment_effect\n",
    "\n",
    "data = pd.DataFrame(np.stack([y_if_control, y_if_treated], axis=-1), columns = ['y0', 'y1'])\n",
    "data"
   ]
  },
  {
   "cell_type": "code",
   "execution_count": null,
   "id": "3a3407a6",
   "metadata": {},
   "outputs": [],
   "source": [
    "# or we can create y0 and y1 from different correlated distributions\n",
    "\n",
    "means = np.array([10, 10])\n",
    "sds = np.array([2, 2])\n",
    "corr_matrix = np.array([\n",
    "    [1, 0.8],\n",
    "    [0.8, 1]\n",
    "])\n",
    "\n",
    "data1 = create_correlated_variables(2, 10, means, sds, corr_matrix)\n",
    "\n",
    "\n",
    "treatment_effect = 5\n",
    "\n",
    "# data[:, 0] - controlled, y0\n",
    "data1[:, 1] += treatment_effect # treated, y1\n",
    "\n",
    "data1 = pd.DataFrame(data, columns = ['y0', 'y1'])\n",
    "\n",
    "\n",
    "# or we can just add some noise from normal distribution "
   ]
  },
  {
   "cell_type": "markdown",
   "id": "4da20f2c",
   "metadata": {},
   "source": [
    "**random treatment assignment: completely randomized experiment**\n",
    "\n",
    "in a completely randomized experiment, treatments assigned just randomly. Let's simulate this process."
   ]
  },
  {
   "cell_type": "code",
   "execution_count": null,
   "id": "f588e0fc",
   "metadata": {},
   "outputs": [],
   "source": [
    "# generating treatment assignment randomly from bernoulli dostribution\n",
    "# assigning treatment to each person with probability 0.5 (this probability may differ)\n",
    "z = np.random.binomial(1, 0.5, size=len(data))"
   ]
  },
  {
   "cell_type": "code",
   "execution_count": null,
   "id": "6118115b",
   "metadata": {},
   "outputs": [],
   "source": [
    "z"
   ]
  },
  {
   "cell_type": "code",
   "execution_count": null,
   "id": "9e30187f",
   "metadata": {},
   "outputs": [],
   "source": [
    "data['z'] = z"
   ]
  },
  {
   "cell_type": "code",
   "execution_count": null,
   "id": "6e035589",
   "metadata": {},
   "outputs": [],
   "source": [
    "data"
   ]
  },
  {
   "cell_type": "markdown",
   "id": "f74c0a96",
   "metadata": {},
   "source": [
    "**imitating population groups**\n",
    "\n",
    "Now, let's imagine that we also have Age column in our data. \n",
    "\n",
    "Let's generate new data with this column:"
   ]
  },
  {
   "cell_type": "code",
   "execution_count": null,
   "id": "5065b221",
   "metadata": {},
   "outputs": [],
   "source": [
    "sample_size = 100\n",
    "\n",
    "\n",
    "# age column\n",
    "age = np.random.normal(40, 10, sample_size)"
   ]
  },
  {
   "cell_type": "code",
   "execution_count": null,
   "id": "7b5e6447",
   "metadata": {},
   "outputs": [],
   "source": [
    "plt.hist(age)"
   ]
  },
  {
   "cell_type": "code",
   "execution_count": null,
   "id": "0f058cee",
   "metadata": {},
   "outputs": [],
   "source": [
    "# converting age column to int\n",
    "age = age.astype(int)"
   ]
  },
  {
   "cell_type": "markdown",
   "id": "71848dbb",
   "metadata": {},
   "source": [
    "we will have 3 groups/blocks of people (based on their age), and there will be treatment effects in different blocks"
   ]
  },
  {
   "cell_type": "code",
   "execution_count": null,
   "id": "614e38f5",
   "metadata": {},
   "outputs": [],
   "source": [
    "np.min(age), np.max(age)"
   ]
  },
  {
   "cell_type": "code",
   "execution_count": null,
   "id": "5977e56a",
   "metadata": {},
   "outputs": [],
   "source": [
    "np.where(age < 45)"
   ]
  },
  {
   "cell_type": "code",
   "execution_count": null,
   "id": "bbc30e77",
   "metadata": {},
   "outputs": [],
   "source": [
    "# 3 groups - [19-30, 30-45, 45-60]\n",
    "# this if my random division into groups, in real research such things are done accorring to some theory/knowledge\n",
    "age_groups = np.copy(age)\n",
    "age_groups[age < 30] = 1\n",
    "age_groups[(age >= 30)*(age < 45)] = 2\n",
    "age_groups[age >= 45] = 3"
   ]
  },
  {
   "cell_type": "code",
   "execution_count": null,
   "id": "1306603d",
   "metadata": {},
   "outputs": [],
   "source": [
    "age_groups"
   ]
  },
  {
   "cell_type": "code",
   "execution_count": null,
   "id": "1e8d7d1c",
   "metadata": {},
   "outputs": [],
   "source": [
    "data_age_groups = pd.DataFrame(age_groups, columns=['age_group'])\n",
    "data_age_groups"
   ]
  },
  {
   "cell_type": "markdown",
   "id": "8b70e867",
   "metadata": {},
   "source": [
    "Let's also again generate the potential outcome. But now, let's assume that treatment effect depends on the age group. "
   ]
  },
  {
   "cell_type": "code",
   "execution_count": null,
   "id": "8d58ecd9",
   "metadata": {},
   "outputs": [],
   "source": [
    "np.random.seed(10)\n",
    "y_if_control = np.random.normal(10, 2, size=sample_size)\n",
    "y_if_treated = np.copy(y_if_control)\n",
    "\n",
    "data_age_groups['y0'] = y_if_control # y if control\n",
    "data_age_groups['y1'] = y_if_treated # y if treated, but its not final version, we would add TE here"
   ]
  },
  {
   "cell_type": "code",
   "execution_count": null,
   "id": "d891adaa",
   "metadata": {},
   "outputs": [],
   "source": [
    "data_age_groups"
   ]
  },
  {
   "cell_type": "markdown",
   "id": "87ff6d27",
   "metadata": {},
   "source": [
    "Let's assume that TE(treatment effect) for the 1st group is -2, for the 2nd is 5, and for the third is 10. "
   ]
  },
  {
   "cell_type": "code",
   "execution_count": null,
   "id": "44d6f07e",
   "metadata": {},
   "outputs": [],
   "source": [
    "data_age_groups['y1'] = data_age_groups.apply(lambda x: x.y1 - 2 if x.age_group==1 \n",
    "                                              else x.y1 + 5 if x.age_group==2 \n",
    "                                              else x.y1 + 10, \n",
    "                                              axis=1)\n",
    "# you can do the same thing but on raw numpy arrays just by indexing  with age_groups array"
   ]
  },
  {
   "cell_type": "markdown",
   "id": "f032db8a",
   "metadata": {},
   "source": [
    "and, just for now, let's again simulate completely randomized experiment - assign treatments randomly without conditioning on blocks"
   ]
  },
  {
   "cell_type": "code",
   "execution_count": null,
   "id": "260c1c0d",
   "metadata": {},
   "outputs": [],
   "source": [
    "# assigning treatment to each person with probability 0.3\n",
    "z = np.random.binomial(1, 0.3, size=len(data_age_groups))\n",
    "data_age_groups['z'] = z"
   ]
  },
  {
   "cell_type": "code",
   "execution_count": null,
   "id": "c6be6817",
   "metadata": {},
   "outputs": [],
   "source": [
    "data_age_groups"
   ]
  },
  {
   "cell_type": "markdown",
   "id": "1bda1560",
   "metadata": {},
   "source": [
    "**example of rerandomization**\n",
    "\n",
    "In the previous step, we assigned treatment just randomly across all the participants.\n",
    "\n",
    "Now let's rerandomize our experiment. Let's assign the treatment depending ob the age group with the following probabilities:\n",
    "\n",
    "+ 1 group, prob=0.2\n",
    "+ 2 group, prob=0.4\n",
    "+ 3 group, prob=0.6\n",
    "\n",
    "In other words, we group our participant into blocks depending on their age, and then assign treatment for each group with different probailities. Probability of being assigned to the treatment is higher for older people."
   ]
  },
  {
   "cell_type": "code",
   "execution_count": null,
   "id": "ded17744",
   "metadata": {},
   "outputs": [],
   "source": [
    "def assign_treatment(age_group):\n",
    "    if age_group == 1:\n",
    "        return np.random.binomial(1, 0.2)\n",
    "    if age_group == 2:\n",
    "        return np.random.binomial(1, 0.4)\n",
    "    if age_group == 3:\n",
    "        return np.random.binomial(1, 0.6)\n",
    "\n",
    "\n",
    "data_age_groups['z_new'] = data_age_groups['age_group'].apply(assign_treatment)\n",
    "\n",
    "data_age_groups"
   ]
  },
  {
   "cell_type": "markdown",
   "id": "1401ad2d",
   "metadata": {},
   "source": [
    "## Little summary: data simulation\n",
    "\n",
    "When simulating data for such task we need to think about:\n",
    "    \n",
    "1. **Treatment effect**\n",
    "\n",
    "Simulating y0 and y1 (how are they connected? from one distribution/correlated variables). TE can be equal to all the people, or depend on a group/some covariate.\n",
    "\n",
    "\n",
    "2. **Treatment assignment (random/randomization in blocks/matched pairs)**\n",
    "\n",
    "Sumulating treatment assignment - creating the vector $z$. We can just randomly assign treatment (saw an example), or we can do it randomly in some groups of people (different probablities of treatment for different groups, here a treatment assignment \n",
    "\n",
    "3. **Covariables/Covariates**\n",
    "\n",
    "Can be discrete (categorical variables, or binned continuous variable)."
   ]
  }
 ],
 "metadata": {
  "kernelspec": {
   "display_name": "Python 3 (ipykernel)",
   "language": "python",
   "name": "python3"
  },
  "language_info": {
   "codemirror_mode": {
    "name": "ipython",
    "version": 3
   },
   "file_extension": ".py",
   "mimetype": "text/x-python",
   "name": "python",
   "nbconvert_exporter": "python",
   "pygments_lexer": "ipython3",
   "version": "3.9.13"
  }
 },
 "nbformat": 4,
 "nbformat_minor": 5
}
